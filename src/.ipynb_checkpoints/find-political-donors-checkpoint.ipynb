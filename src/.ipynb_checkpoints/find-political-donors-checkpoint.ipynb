{
 "cells": [
  {
   "cell_type": "code",
   "execution_count": 1,
   "metadata": {},
   "outputs": [],
   "source": [
    "import pandas as pd"
   ]
  },
  {
   "cell_type": "markdown",
   "metadata": {},
   "source": [
    "## Parse and clean\n",
    "\n",
    "If your solution requires additional libraries, environments, or dependencies, you must specify these in your README documentation. See the figure below for the required structure of the top-most directory in your repo, or simply clone this repo.\n",
    "\n",
    "Links:\n",
    "1. Clear iPython vars: https://stackoverflow.com/questions/22934204/how-to-clear-variables-in-ipythonS\n",
    "2. Running median for static array: https://www.youtube.com/watch?v=VmogG01IjYc\n",
    "\n",
    "Possible optimizations:\n",
    "1. Reading data in chunks: http://pandas-docs.github.io/pandas-docs-travis/io.html#iterating-through-files-chunk-by-chunk\n",
    "2. Parent link for point 1: https://stackoverflow.com/questions/14262433/large-data-work-flows-using-pandas\n",
    "3. Running median for streaming chunks of data: https://stackoverflow.com/questions/10657503/find-running-median-from-a-stream-of-integers"
   ]
  },
  {
   "cell_type": "code",
   "execution_count": 2,
   "metadata": {},
   "outputs": [
    {
     "name": "stdout",
     "output_type": "stream",
     "text": [
      "Empty DataFrame\n",
      "Columns: [CMTE_ID, AMNDT_IND, RPT_TP, TRANSACTION_PGI, IMAGE_NUM, TRANSACTION_TP, ENTITY_TP, NAME, CITY, STATE, ZIP_CODE, EMPLOYER, OCCUPATION, TRANSACTION_DT, TRANSACTION_AMT, OTHER_ID, TRAN_ID, FILE_NUM, MEMO_CD, MEMO_TEXT, SUB_ID]\n",
      "Index: []\n",
      "\n",
      "[0 rows x 21 columns]\n"
     ]
    }
   ],
   "source": [
    "# Read in header file\n",
    "column_names = pd.read_csv(filepath_or_buffer='./indiv_header_file.csv')\n",
    "print(column_names)"
   ]
  },
  {
   "cell_type": "code",
   "execution_count": 3,
   "metadata": {},
   "outputs": [
    {
     "name": "stdout",
     "output_type": "stream",
     "text": [
      "     CMTE_ID AMNDT_IND RPT_TP TRANSACTION_PGI           IMAGE_NUM  \\\n",
      "0  C00629618         N    TER               P  201701230300133512   \n",
      "1  C00177436         N     M2               P  201702039042410894   \n",
      "2  C00384818         N     M2               P  201702039042412112   \n",
      "3  C00177436         N     M2               P  201702039042410893   \n",
      "4  C00177436         N     M2               P  201702039042410895   \n",
      "\n",
      "  TRANSACTION_TP ENTITY_TP                 NAME              CITY STATE  \\\n",
      "0            15C       IND        PEREZ, JOHN A       LOS ANGELES    CA   \n",
      "1             15       IND    DEEHAN, WILLIAM N        ALPHARETTA    GA   \n",
      "2             15       IND       ABBOTT, JOSEPH        WOONSOCKET    RI   \n",
      "3             15       IND      SABOURIN, JAMES  LOOKOUT MOUNTAIN    GA   \n",
      "4             15       IND  JEROME, CHRISTOPHER          FALMOUTH    ME   \n",
      "\n",
      "          ...             EMPLOYER                     OCCUPATION  \\\n",
      "0         ...            PRINCIPAL         DOUBLE NICKEL ADVISORS   \n",
      "1         ...                 UNUM                 SVP, SALES, CL   \n",
      "2         ...           CVS HEALTH        VP, RETAIL PHARMACY OPS   \n",
      "3         ...                 UNUM  SVP, CORPORATE COMMUNICATIONS   \n",
      "4         ...                 UNUM           EVP, GLOBAL SERVICES   \n",
      "\n",
      "  TRANSACTION_DT  TRANSACTION_AMT   OTHER_ID            TRAN_ID FILE_NUM  \\\n",
      "0        1032017               40  H6CA34245      SA01251735122  1141239   \n",
      "1        1312017              384        NaN    PR2283873845050  1147350   \n",
      "2        1122017              250        NaN  2017020211435-887  1147467   \n",
      "3        1312017              230        NaN    PR1890575345050  1147350   \n",
      "4        1312017              384        NaN    PR2283905245050  1147350   \n",
      "\n",
      "   MEMO_CD                          MEMO_TEXT               SUB_ID  \n",
      "0      NaN                                NaN  2012520171368850783  \n",
      "1      NaN  P/R DEDUCTION ($192.00 BI-WEEKLY)  4020820171370029337  \n",
      "2      NaN                                NaN  4020820171370030285  \n",
      "3      NaN  P/R DEDUCTION ($115.00 BI-WEEKLY)  4020820171370029335  \n",
      "4      NaN  P/R DEDUCTION ($192.00 BI-WEEKLY)  4020820171370029342  \n",
      "\n",
      "[5 rows x 21 columns]\n"
     ]
    }
   ],
   "source": [
    "# Read in input file, attach header for column names\n",
    "itcont_df = pd.read_csv(filepath_or_buffer='../input/itcont.txt', sep='|', header=None, names=list(column_names))\n",
    "print(itcont_df.head())"
   ]
  },
  {
   "cell_type": "code",
   "execution_count": 4,
   "metadata": {},
   "outputs": [],
   "source": [
    "relevant_column_names = ['CMTE_ID', 'ZIP_CODE', 'TRANSACTION_DT', 'TRANSACTION_AMT', 'OTHER_ID'];"
   ]
  },
  {
   "cell_type": "code",
   "execution_count": 5,
   "metadata": {},
   "outputs": [
    {
     "name": "stdout",
     "output_type": "stream",
     "text": [
      "     CMTE_ID   ZIP_CODE  TRANSACTION_DT  TRANSACTION_AMT   OTHER_ID\n",
      "0  C00629618      90017         1032017               40  H6CA34245\n",
      "1  C00177436  300047357         1312017              384        NaN\n",
      "2  C00384818   28956146         1122017              250        NaN\n",
      "3  C00177436  307502818         1312017              230        NaN\n",
      "4  C00177436   41051896         1312017              384        NaN\n"
     ]
    }
   ],
   "source": [
    "# Drop irrelevant columns\n",
    "itcont_df = itcont_df[relevant_column_names]\n",
    "print(itcont_df.head())"
   ]
  },
  {
   "cell_type": "code",
   "execution_count": 6,
   "metadata": {},
   "outputs": [
    {
     "name": "stdout",
     "output_type": "stream",
     "text": [
      "     CMTE_ID   ZIP_CODE  TRANSACTION_DT  TRANSACTION_AMT OTHER_ID\n",
      "1  C00177436  300047357         1312017              384      NaN\n",
      "2  C00384818   28956146         1122017              250      NaN\n",
      "3  C00177436  307502818         1312017              230      NaN\n",
      "4  C00177436   41051896         1312017              384      NaN\n",
      "5  C00384818   28956146         1122017              333      NaN\n",
      "6  C00177436   41051935         1312017              384      NaN\n"
     ]
    }
   ],
   "source": [
    "# Remove entries w/OTHER_ID set\n",
    "itcont_df = itcont_df[pd.isnull(itcont_df['OTHER_ID'])]\n",
    "print(itcont_df)"
   ]
  },
  {
   "cell_type": "code",
   "execution_count": null,
   "metadata": {},
   "outputs": [],
   "source": []
  }
 ],
 "metadata": {
  "kernelspec": {
   "display_name": "Python 3",
   "language": "python",
   "name": "python3"
  },
  "language_info": {
   "codemirror_mode": {
    "name": "ipython",
    "version": 3
   },
   "file_extension": ".py",
   "mimetype": "text/x-python",
   "name": "python",
   "nbconvert_exporter": "python",
   "pygments_lexer": "ipython3",
   "version": "3.6.1"
  }
 },
 "nbformat": 4,
 "nbformat_minor": 2
}
